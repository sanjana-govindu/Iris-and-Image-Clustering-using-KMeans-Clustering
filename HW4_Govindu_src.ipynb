{
 "cells": [
  {
   "cell_type": "markdown",
   "id": "6975b52b",
   "metadata": {},
   "source": [
    "### HOMEWORK 3 - K MEANS IMPLEMENTATION - IRIS AND IMAGE CLUSTERING"
   ]
  },
  {
   "cell_type": "code",
   "execution_count": 1,
   "id": "c3164610",
   "metadata": {},
   "outputs": [],
   "source": [
    "import pandas as pd\n",
    "import numpy as np\n",
    "import math\n",
    "from sklearn.utils import shuffle\n",
    "import random\n",
    "from copy import deepcopy\n",
    "import matplotlib.pyplot\n",
    "import matplotlib.pyplot as plt\n",
    "import seaborn\n",
    "\n",
    "from sklearn.metrics.pairwise import euclidean_distances\n",
    "from sklearn.metrics.pairwise import cosine_similarity\n",
    "from scipy.spatial.distance import cityblock\n",
    "\n",
    "from sklearn.decomposition import PCA\n",
    "from sklearn.decomposition import TruncatedSVD\n",
    "from sklearn.manifold import TSNE\n",
    "\n",
    "import warnings\n",
    "warnings.filterwarnings(\"ignore\")"
   ]
  },
  {
   "cell_type": "code",
   "execution_count": 2,
   "id": "c2b2a3ee",
   "metadata": {},
   "outputs": [],
   "source": [
    "# Used to alculate the norm of vector or matrix\n",
    "def normDist(a, b, ax=1):\n",
    "    return np.linalg.norm(a - b, axis=ax)"
   ]
  },
  {
   "cell_type": "code",
   "execution_count": 3,
   "id": "3c8ad1b3",
   "metadata": {},
   "outputs": [],
   "source": [
    "def KMeans(k, X, Y, clusters, dist_err):\n",
    "    while dist_err != 0:\n",
    "        yprev = deepcopy(Y)\n",
    "        for i in range(len(X)):\n",
    "            clusters[i] = np.argmin(normDist(X[i], Y))\n",
    "        for j in range(k):\n",
    "            Y[j] = np.mean([X[x] for x in range(len(X)) if clusters[x] == j], axis = 0)\n",
    "        dist_err = normDist(Y, yprev, None)\n",
    "    return clusters"
   ]
  },
  {
   "cell_type": "code",
   "execution_count": 4,
   "id": "201df471",
   "metadata": {},
   "outputs": [],
   "source": [
    "# Applying PCA - Principal Component Analysis to reduce dimentionality\n",
    "def pca(data):\n",
    "    red_dim = PCA(n_components = len(X))\n",
    "    #red_dim = TruncatedSVD(n_components=500, random_state=42)\n",
    "    pca_data = red_dim.fit_transform(data)\n",
    "    return pca_data"
   ]
  },
  {
   "cell_type": "code",
   "execution_count": 5,
   "id": "62e3433c",
   "metadata": {},
   "outputs": [],
   "source": [
    "# Applying TSNE - Used to understand high-dimensional data and fit into low-dimensional space\n",
    "def tsne(data):\n",
    "    tsne_data = TSNE(n_components=2,init='random').fit_transform(X)\n",
    "    return tsne_data"
   ]
  },
  {
   "cell_type": "markdown",
   "id": "fdfe09cb",
   "metadata": {},
   "source": [
    "### PART 1 - IRIS CLUSTERING"
   ]
  },
  {
   "cell_type": "code",
   "execution_count": 6,
   "id": "96f2a2ea",
   "metadata": {
    "scrolled": false
   },
   "outputs": [],
   "source": [
    "#Loading Test Data for IRIS Dataset\n",
    "data = [\"SepalLength\",\"SepalWidth\",\"PetalLength\",\"PetalWidth\"]\n",
    "test1 = pd.read_csv(\"/Users/sanjanagovindu/Downloads/test_iris.txt\", names = data, sep=' ')\n",
    "# len(test1.index)"
   ]
  },
  {
   "cell_type": "code",
   "execution_count": 7,
   "id": "8bf81034",
   "metadata": {},
   "outputs": [
    {
     "data": {
      "text/html": [
       "<div>\n",
       "<style scoped>\n",
       "    .dataframe tbody tr th:only-of-type {\n",
       "        vertical-align: middle;\n",
       "    }\n",
       "\n",
       "    .dataframe tbody tr th {\n",
       "        vertical-align: top;\n",
       "    }\n",
       "\n",
       "    .dataframe thead th {\n",
       "        text-align: right;\n",
       "    }\n",
       "</style>\n",
       "<table border=\"1\" class=\"dataframe\">\n",
       "  <thead>\n",
       "    <tr style=\"text-align: right;\">\n",
       "      <th></th>\n",
       "      <th>SepalLength</th>\n",
       "      <th>SepalWidth</th>\n",
       "      <th>PetalLength</th>\n",
       "      <th>PetalWidth</th>\n",
       "    </tr>\n",
       "  </thead>\n",
       "  <tbody>\n",
       "    <tr>\n",
       "      <th>0</th>\n",
       "      <td>5.7</td>\n",
       "      <td>4.4</td>\n",
       "      <td>1.5</td>\n",
       "      <td>0.4</td>\n",
       "    </tr>\n",
       "    <tr>\n",
       "      <th>1</th>\n",
       "      <td>5.5</td>\n",
       "      <td>4.2</td>\n",
       "      <td>1.4</td>\n",
       "      <td>0.2</td>\n",
       "    </tr>\n",
       "    <tr>\n",
       "      <th>2</th>\n",
       "      <td>5.2</td>\n",
       "      <td>4.1</td>\n",
       "      <td>1.5</td>\n",
       "      <td>0.1</td>\n",
       "    </tr>\n",
       "    <tr>\n",
       "      <th>3</th>\n",
       "      <td>5.8</td>\n",
       "      <td>4.0</td>\n",
       "      <td>1.2</td>\n",
       "      <td>0.2</td>\n",
       "    </tr>\n",
       "    <tr>\n",
       "      <th>4</th>\n",
       "      <td>5.4</td>\n",
       "      <td>3.9</td>\n",
       "      <td>1.7</td>\n",
       "      <td>0.4</td>\n",
       "    </tr>\n",
       "  </tbody>\n",
       "</table>\n",
       "</div>"
      ],
      "text/plain": [
       "   SepalLength  SepalWidth  PetalLength  PetalWidth\n",
       "0          5.7         4.4          1.5         0.4\n",
       "1          5.5         4.2          1.4         0.2\n",
       "2          5.2         4.1          1.5         0.1\n",
       "3          5.8         4.0          1.2         0.2\n",
       "4          5.4         3.9          1.7         0.4"
      ]
     },
     "execution_count": 7,
     "metadata": {},
     "output_type": "execute_result"
    }
   ],
   "source": [
    "test1.head(5)"
   ]
  },
  {
   "cell_type": "code",
   "execution_count": 8,
   "id": "098450ee",
   "metadata": {},
   "outputs": [
    {
     "data": {
      "text/plain": [
       "(150, 4)"
      ]
     },
     "execution_count": 8,
     "metadata": {},
     "output_type": "execute_result"
    }
   ],
   "source": [
    "test1.shape"
   ]
  },
  {
   "cell_type": "code",
   "execution_count": 9,
   "id": "0c977579",
   "metadata": {},
   "outputs": [
    {
     "name": "stdout",
     "output_type": "stream",
     "text": [
      "<class 'pandas.core.frame.DataFrame'>\n",
      "RangeIndex: 150 entries, 0 to 149\n",
      "Data columns (total 4 columns):\n",
      " #   Column       Non-Null Count  Dtype  \n",
      "---  ------       --------------  -----  \n",
      " 0   SepalLength  150 non-null    float64\n",
      " 1   SepalWidth   150 non-null    float64\n",
      " 2   PetalLength  150 non-null    float64\n",
      " 3   PetalWidth   150 non-null    float64\n",
      "dtypes: float64(4)\n",
      "memory usage: 4.8 KB\n"
     ]
    }
   ],
   "source": [
    "test1.info()"
   ]
  },
  {
   "cell_type": "code",
   "execution_count": 10,
   "id": "7254f9d2",
   "metadata": {},
   "outputs": [
    {
     "name": "stdout",
     "output_type": "stream",
     "text": [
      "SepalLength    0\n",
      "SepalWidth     0\n",
      "PetalLength    0\n",
      "PetalWidth     0\n",
      "dtype: int64\n"
     ]
    }
   ],
   "source": [
    "# Check if there are any null values present in the test dataset\n",
    "null_check = test1.isnull().sum()\n",
    "print(null_check)"
   ]
  },
  {
   "cell_type": "code",
   "execution_count": 11,
   "id": "90211bff",
   "metadata": {},
   "outputs": [
    {
     "data": {
      "text/plain": [
       "150"
      ]
     },
     "execution_count": 11,
     "metadata": {},
     "output_type": "execute_result"
    }
   ],
   "source": [
    "# Removing the columns which has all 0's in data \n",
    "test1 = test1.loc[:, (test1 != 0).any(axis=0)]\n",
    "len(test1.index)"
   ]
  },
  {
   "cell_type": "code",
   "execution_count": 12,
   "id": "99e1438d",
   "metadata": {},
   "outputs": [],
   "source": [
    "X = test1.to_numpy()"
   ]
  },
  {
   "cell_type": "code",
   "execution_count": 13,
   "id": "893873ad",
   "metadata": {},
   "outputs": [
    {
     "data": {
      "image/png": "[encoded data removed]",
      "text/plain": [
       "<Figure size 576x396 with 1 Axes>"
      ]
     },
     "metadata": {},
     "output_type": "display_data"
    }
   ],
   "source": [
    "# Visulaization of data for clustering\n",
    "matplotlib.pyplot.style.use('seaborn')\n",
    "axis_xy = seaborn.scatterplot(x = test1['SepalLength'], y = test1['SepalWidth'], s = 50)\n",
    "matplotlib.pyplot.title('Sepal Length vs Sepal Width', fontsize = 15)\n",
    "axis_xy.set_xlabel('Sepal Length')\n",
    "axis_xy.set_ylabel('Sepal Width')\n",
    "matplotlib.pyplot.show()"
   ]
  },
  {
   "cell_type": "code",
   "execution_count": 14,
   "id": "60166168",
   "metadata": {},
   "outputs": [],
   "source": [
    "def findCentroidAndDistance(k, data, iter):\n",
    "    cent = [] #List of centroid points in data for k clusters\n",
    "    euc_dist = [] #List of euclidean distances between 2 data points\n",
    "    dist = 0\n",
    "    for i in range(iter): #iter =3\n",
    "        #Finding centroids in the data and appending into the CENT LIST\n",
    "        data = shuffle(data)\n",
    "        c = data.iloc[:k]\n",
    "        cent.append(c)\n",
    "    for c in cent:\n",
    "        #Finding euclidean distance between 2 data points and appending it into the euc_dist list\n",
    "        dist += np.sqrt(np.sum((c.iloc[0] - c.iloc[1]) ** 2))\n",
    "        dist += np.sqrt(np.sum((c.iloc[1] - c.iloc[2]) ** 2))\n",
    "        dist += np.sqrt(np.sum((c.iloc[2] - c.iloc[0]) ** 2))\n",
    "        euc_dist.append(dist)\n",
    "    return cent[np.argmax(euc_dist)].to_numpy()"
   ]
  },
  {
   "cell_type": "code",
   "execution_count": 15,
   "id": "b97c2d67",
   "metadata": {
    "scrolled": true
   },
   "outputs": [
    {
     "name": "stdout",
     "output_type": "stream",
     "text": [
      "[[5.5 2.5 4.  1.3]\n",
      " [6.5 3.  5.8 2.2]\n",
      " [4.6 3.4 1.4 0.3]]\n",
      "[2. 2. 2. 2. 2. 2. 1. 1. 2. 2. 2. 2. 2. 2. 2. 1. 2. 2. 2. 2. 2. 2. 2. 2.\n",
      " 1. 1. 0. 2. 2. 2. 2. 2. 2. 2. 2. 2. 1. 1. 1. 0. 2. 2. 1. 1. 1. 1. 1. 0.\n",
      " 1. 0. 2. 2. 2. 2. 2. 1. 1. 1. 1. 1. 0. 0. 2. 2. 2. 2. 2. 1. 1. 1. 1. 1.\n",
      " 1. 1. 1. 1. 0. 1. 0. 0. 0. 0. 0. 0. 0. 0. 0. 2. 2. 2. 2. 2. 2. 1. 1. 0.\n",
      " 0. 0. 0. 0. 0. 0. 2. 1. 1. 1. 1. 0. 0. 0. 0. 0. 0. 0. 0. 0. 0. 1. 0. 0.\n",
      " 0. 0. 0. 0. 0. 0. 1. 1. 0. 0. 0. 1. 0. 0. 0. 0. 0. 0. 0. 0. 0. 0. 0. 0.\n",
      " 0. 2. 0. 0. 0. 0.]\n"
     ]
    }
   ],
   "source": [
    "k = 3\n",
    "Y = findCentroidAndDistance(k, test1, 7)\n",
    "dist_err = normDist(Y, np.zeros(Y.shape), None) \n",
    "clusters = np.zeros(len(X))\n",
    "print(Y)\n",
    "\n",
    "clusters = KMeans(k, X, Y, clusters, dist_err)\n",
    "print(clusters)"
   ]
  },
  {
   "cell_type": "code",
   "execution_count": 16,
   "id": "617dfad9",
   "metadata": {},
   "outputs": [],
   "source": [
    "#Output file with prediction data and k clusters\n",
    "out1 = open('/Users/sanjanagovindu/Downloads/output1.csv', 'w')\n",
    "\n",
    "out1.writelines( \"%s\\n\" % int(x) for x in clusters)\n",
    "\n",
    "out1.close()"
   ]
  },
  {
   "cell_type": "code",
   "execution_count": 17,
   "id": "326f1879",
   "metadata": {
    "scrolled": true
   },
   "outputs": [
    {
     "data": {
      "image/png": "[encoded data removed]",
      "text/plain": [
       "<Figure size 576x396 with 1 Axes>"
      ]
     },
     "metadata": {},
     "output_type": "display_data"
    }
   ],
   "source": [
    "#Plot of the data of k = 3 clusters\n",
    "matplotlib.pyplot.scatter(X[:, 0], X[:, 1], c = clusters)\n",
    "matplotlib.pyplot.show()"
   ]
  },
  {
   "cell_type": "code",
   "execution_count": 18,
   "id": "287ff228",
   "metadata": {},
   "outputs": [],
   "source": [
    "# Based on Experiment values - Visulization of Vscore vs optimal K value in a plot for Iris Clustering\n",
    "# plt.plot([2,3,4,5,7,10], [72,80,71,69,54,66], label=\"\")\n",
    "# plt.title(\"Iris Clustering - Vscore vs k value\", fontsize = 15)\n",
    "# plt.xlabel(\"k - Optimal values\")\n",
    "# plt.ylabel(\"VScore - Iris Clustering\")\n",
    "# plt.show()"
   ]
  },
  {
   "cell_type": "markdown",
   "id": "636d2f70",
   "metadata": {},
   "source": [
    "### PART 2 - IMAGE CLUSTERING"
   ]
  },
  {
   "cell_type": "code",
   "execution_count": 19,
   "id": "34d762d3",
   "metadata": {
    "scrolled": true
   },
   "outputs": [
    {
     "data": {
      "text/html": [
       "<div>\n",
       "<style scoped>\n",
       "    .dataframe tbody tr th:only-of-type {\n",
       "        vertical-align: middle;\n",
       "    }\n",
       "\n",
       "    .dataframe tbody tr th {\n",
       "        vertical-align: top;\n",
       "    }\n",
       "\n",
       "    .dataframe thead th {\n",
       "        text-align: right;\n",
       "    }\n",
       "</style>\n",
       "<table border=\"1\" class=\"dataframe\">\n",
       "  <thead>\n",
       "    <tr style=\"text-align: right;\">\n",
       "      <th></th>\n",
       "      <th>0</th>\n",
       "      <th>1</th>\n",
       "      <th>2</th>\n",
       "      <th>3</th>\n",
       "      <th>4</th>\n",
       "      <th>5</th>\n",
       "      <th>6</th>\n",
       "      <th>7</th>\n",
       "      <th>8</th>\n",
       "      <th>9</th>\n",
       "      <th>...</th>\n",
       "      <th>774</th>\n",
       "      <th>775</th>\n",
       "      <th>776</th>\n",
       "      <th>777</th>\n",
       "      <th>778</th>\n",
       "      <th>779</th>\n",
       "      <th>780</th>\n",
       "      <th>781</th>\n",
       "      <th>782</th>\n",
       "      <th>783</th>\n",
       "    </tr>\n",
       "  </thead>\n",
       "  <tbody>\n",
       "    <tr>\n",
       "      <th>0</th>\n",
       "      <td>0</td>\n",
       "      <td>0</td>\n",
       "      <td>0</td>\n",
       "      <td>0</td>\n",
       "      <td>0</td>\n",
       "      <td>0</td>\n",
       "      <td>0</td>\n",
       "      <td>0</td>\n",
       "      <td>0</td>\n",
       "      <td>0</td>\n",
       "      <td>...</td>\n",
       "      <td>0</td>\n",
       "      <td>0</td>\n",
       "      <td>0</td>\n",
       "      <td>0</td>\n",
       "      <td>0</td>\n",
       "      <td>0</td>\n",
       "      <td>0</td>\n",
       "      <td>0</td>\n",
       "      <td>0</td>\n",
       "      <td>0</td>\n",
       "    </tr>\n",
       "    <tr>\n",
       "      <th>1</th>\n",
       "      <td>0</td>\n",
       "      <td>0</td>\n",
       "      <td>0</td>\n",
       "      <td>0</td>\n",
       "      <td>0</td>\n",
       "      <td>0</td>\n",
       "      <td>0</td>\n",
       "      <td>0</td>\n",
       "      <td>0</td>\n",
       "      <td>0</td>\n",
       "      <td>...</td>\n",
       "      <td>0</td>\n",
       "      <td>0</td>\n",
       "      <td>0</td>\n",
       "      <td>0</td>\n",
       "      <td>0</td>\n",
       "      <td>0</td>\n",
       "      <td>0</td>\n",
       "      <td>0</td>\n",
       "      <td>0</td>\n",
       "      <td>0</td>\n",
       "    </tr>\n",
       "    <tr>\n",
       "      <th>2</th>\n",
       "      <td>0</td>\n",
       "      <td>0</td>\n",
       "      <td>0</td>\n",
       "      <td>0</td>\n",
       "      <td>0</td>\n",
       "      <td>0</td>\n",
       "      <td>0</td>\n",
       "      <td>0</td>\n",
       "      <td>0</td>\n",
       "      <td>0</td>\n",
       "      <td>...</td>\n",
       "      <td>0</td>\n",
       "      <td>0</td>\n",
       "      <td>0</td>\n",
       "      <td>0</td>\n",
       "      <td>0</td>\n",
       "      <td>0</td>\n",
       "      <td>0</td>\n",
       "      <td>0</td>\n",
       "      <td>0</td>\n",
       "      <td>0</td>\n",
       "    </tr>\n",
       "    <tr>\n",
       "      <th>3</th>\n",
       "      <td>0</td>\n",
       "      <td>0</td>\n",
       "      <td>0</td>\n",
       "      <td>0</td>\n",
       "      <td>0</td>\n",
       "      <td>0</td>\n",
       "      <td>0</td>\n",
       "      <td>0</td>\n",
       "      <td>0</td>\n",
       "      <td>0</td>\n",
       "      <td>...</td>\n",
       "      <td>0</td>\n",
       "      <td>0</td>\n",
       "      <td>0</td>\n",
       "      <td>0</td>\n",
       "      <td>0</td>\n",
       "      <td>0</td>\n",
       "      <td>0</td>\n",
       "      <td>0</td>\n",
       "      <td>0</td>\n",
       "      <td>0</td>\n",
       "    </tr>\n",
       "    <tr>\n",
       "      <th>4</th>\n",
       "      <td>0</td>\n",
       "      <td>0</td>\n",
       "      <td>0</td>\n",
       "      <td>0</td>\n",
       "      <td>0</td>\n",
       "      <td>0</td>\n",
       "      <td>0</td>\n",
       "      <td>0</td>\n",
       "      <td>0</td>\n",
       "      <td>0</td>\n",
       "      <td>...</td>\n",
       "      <td>0</td>\n",
       "      <td>0</td>\n",
       "      <td>0</td>\n",
       "      <td>0</td>\n",
       "      <td>0</td>\n",
       "      <td>0</td>\n",
       "      <td>0</td>\n",
       "      <td>0</td>\n",
       "      <td>0</td>\n",
       "      <td>0</td>\n",
       "    </tr>\n",
       "  </tbody>\n",
       "</table>\n",
       "<p>5 rows × 784 columns</p>\n",
       "</div>"
      ],
      "text/plain": [
       "   0    1    2    3    4    5    6    7    8    9    ...  774  775  776  777  \\\n",
       "0    0    0    0    0    0    0    0    0    0    0  ...    0    0    0    0   \n",
       "1    0    0    0    0    0    0    0    0    0    0  ...    0    0    0    0   \n",
       "2    0    0    0    0    0    0    0    0    0    0  ...    0    0    0    0   \n",
       "3    0    0    0    0    0    0    0    0    0    0  ...    0    0    0    0   \n",
       "4    0    0    0    0    0    0    0    0    0    0  ...    0    0    0    0   \n",
       "\n",
       "   778  779  780  781  782  783  \n",
       "0    0    0    0    0    0    0  \n",
       "1    0    0    0    0    0    0  \n",
       "2    0    0    0    0    0    0  \n",
       "3    0    0    0    0    0    0  \n",
       "4    0    0    0    0    0    0  \n",
       "\n",
       "[5 rows x 784 columns]"
      ]
     },
     "execution_count": 19,
     "metadata": {},
     "output_type": "execute_result"
    }
   ],
   "source": [
    "# Loading Test Data for IMAGE Dataset\n",
    "test2 = pd.read_csv(\"/Users/sanjanagovindu/Downloads/test_image.txt\",sep=',',header=None)\n",
    "# len(test2.index)\n",
    "test2.head(5)"
   ]
  },
  {
   "cell_type": "code",
   "execution_count": 20,
   "id": "4bde6c7d",
   "metadata": {},
   "outputs": [
    {
     "data": {
      "text/plain": [
       "(10740, 784)"
      ]
     },
     "execution_count": 20,
     "metadata": {},
     "output_type": "execute_result"
    }
   ],
   "source": [
    "test2.shape"
   ]
  },
  {
   "cell_type": "code",
   "execution_count": 21,
   "id": "b38c85ef",
   "metadata": {},
   "outputs": [
    {
     "name": "stdout",
     "output_type": "stream",
     "text": [
      "<class 'pandas.core.frame.DataFrame'>\n",
      "RangeIndex: 10740 entries, 0 to 10739\n",
      "Columns: 784 entries, 0 to 783\n",
      "dtypes: int64(784)\n",
      "memory usage: 64.2 MB\n"
     ]
    }
   ],
   "source": [
    "test2.info()"
   ]
  },
  {
   "cell_type": "code",
   "execution_count": 22,
   "id": "e8f4fd20",
   "metadata": {},
   "outputs": [],
   "source": [
    "X = test2.values"
   ]
  },
  {
   "cell_type": "code",
   "execution_count": 23,
   "id": "fcda9536",
   "metadata": {},
   "outputs": [
    {
     "name": "stdout",
     "output_type": "stream",
     "text": [
      "[[0 0 0 ... 0 0 0]\n",
      " [0 0 0 ... 0 0 0]\n",
      " [0 0 0 ... 0 0 0]\n",
      " ...\n",
      " [0 0 0 ... 0 0 0]\n",
      " [0 0 0 ... 0 0 0]\n",
      " [0 0 0 ... 0 0 0]]\n",
      "[7. 3. 3. ... 8. 8. 8.]\n"
     ]
    }
   ],
   "source": [
    "k = 10\n",
    "Y = X[np.random.RandomState(50).permutation(np.array(X).shape[0])[:k]]\n",
    "clusters = np.zeros(len(X))\n",
    "dist_err = normDist(Y, np.zeros(Y.shape), None)\n",
    "print(Y)\n",
    "\n",
    "clusters = KMeans(k, X, Y, clusters, dist_err)\n",
    "clusters = clusters + 1\n",
    "print(clusters)"
   ]
  },
  {
   "cell_type": "code",
   "execution_count": 24,
   "id": "a2e95706",
   "metadata": {},
   "outputs": [],
   "source": [
    "# Output file with prediction data and k clusters\n",
    "out2 = open('/Users/sanjanagovindu/Downloads/output2.csv', 'w')\n",
    "\n",
    "out2.writelines( \"%s\\n\" % int(x) for x in clusters)\n",
    "\n",
    "out2.close()"
   ]
  },
  {
   "cell_type": "code",
   "execution_count": 25,
   "id": "52938a88",
   "metadata": {},
   "outputs": [
    {
     "data": {
      "image/png": "[encoded data removed]",
      "text/plain": [
       "<Figure size 576x396 with 1 Axes>"
      ]
     },
     "metadata": {},
     "output_type": "display_data"
    }
   ],
   "source": [
    "# Plot of the data \n",
    "matplotlib.pyplot.scatter(X[:, 0], X[:, 1], c = clusters)\n",
    "matplotlib.pyplot.show()"
   ]
  },
  {
   "cell_type": "code",
   "execution_count": 26,
   "id": "d3905c7d",
   "metadata": {},
   "outputs": [],
   "source": [
    "# Based on Experiment values - Visulization of Vscore vs optimal K value in a plot for Image Clustering\n",
    "# plt.plot([2,7,10,14,18], [27,36,69,29,14], label=\"\")\n",
    "# plt.title(\"Image Clustering - Vscore vs k value\", fontsize = 15)\n",
    "# plt.xlabel(\"k - Optimal values\")\n",
    "# plt.ylabel(\"VScore - Image Clustering\")\n",
    "# plt.show()"
   ]
  }
 ],
 "metadata": {
  "kernelspec": {
   "display_name": "Python 3 (ipykernel)",
   "language": "python",
   "name": "python3"
  },
  "language_info": {
   "codemirror_mode": {
    "name": "ipython",
    "version": 3
   },
   "file_extension": ".py",
   "mimetype": "text/x-python",
   "name": "python",
   "nbconvert_exporter": "python",
   "pygments_lexer": "ipython3",
   "version": "3.9.12"
  }
 },
 "nbformat": 4,
 "nbformat_minor": 5
}
